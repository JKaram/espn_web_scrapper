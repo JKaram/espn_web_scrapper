{
 "cells": [
  {
   "cell_type": "code",
   "execution_count": 1,
   "metadata": {},
   "outputs": [],
   "source": [
    "import pandas as pd\n",
    "from matplotlib import pyplot as plt\n",
    "import altair as alt\n",
    "import numpy as np "
   ]
  },
  {
   "cell_type": "code",
   "execution_count": 2,
   "metadata": {},
   "outputs": [],
   "source": [
    "df = pd.read_csv('rapsscores.csv')"
   ]
  },
  {
   "cell_type": "code",
   "execution_count": 3,
   "metadata": {},
   "outputs": [],
   "source": [
    "df = df.drop(['Unnamed: 0'], axis=1)\n",
    "df.loc[:,'total'] = df.sum(axis=1)"
   ]
  },
  {
   "cell_type": "code",
   "execution_count": 4,
   "metadata": {},
   "outputs": [
    {
     "data": {
      "text/html": [
       "<div>\n",
       "<style scoped>\n",
       "    .dataframe tbody tr th:only-of-type {\n",
       "        vertical-align: middle;\n",
       "    }\n",
       "\n",
       "    .dataframe tbody tr th {\n",
       "        vertical-align: top;\n",
       "    }\n",
       "\n",
       "    .dataframe thead th {\n",
       "        text-align: right;\n",
       "    }\n",
       "</style>\n",
       "<table border=\"1\" class=\"dataframe\">\n",
       "  <thead>\n",
       "    <tr style=\"text-align: right;\">\n",
       "      <th></th>\n",
       "      <th>first</th>\n",
       "      <th>second</th>\n",
       "      <th>third</th>\n",
       "      <th>fourth</th>\n",
       "      <th>OT</th>\n",
       "      <th>total</th>\n",
       "    </tr>\n",
       "  </thead>\n",
       "  <tbody>\n",
       "    <tr>\n",
       "      <th>2</th>\n",
       "      <td>23</td>\n",
       "      <td>17</td>\n",
       "      <td>22</td>\n",
       "      <td>22</td>\n",
       "      <td>NaN</td>\n",
       "      <td>84.0</td>\n",
       "    </tr>\n",
       "    <tr>\n",
       "      <th>32</th>\n",
       "      <td>22</td>\n",
       "      <td>25</td>\n",
       "      <td>29</td>\n",
       "      <td>22</td>\n",
       "      <td>NaN</td>\n",
       "      <td>98.0</td>\n",
       "    </tr>\n",
       "    <tr>\n",
       "      <th>61</th>\n",
       "      <td>27</td>\n",
       "      <td>28</td>\n",
       "      <td>33</td>\n",
       "      <td>25</td>\n",
       "      <td>NaN</td>\n",
       "      <td>113.0</td>\n",
       "    </tr>\n",
       "    <tr>\n",
       "      <th>59</th>\n",
       "      <td>40</td>\n",
       "      <td>33</td>\n",
       "      <td>27</td>\n",
       "      <td>33</td>\n",
       "      <td>NaN</td>\n",
       "      <td>133.0</td>\n",
       "    </tr>\n",
       "    <tr>\n",
       "      <th>16</th>\n",
       "      <td>29</td>\n",
       "      <td>17</td>\n",
       "      <td>23</td>\n",
       "      <td>29</td>\n",
       "      <td>NaN</td>\n",
       "      <td>98.0</td>\n",
       "    </tr>\n",
       "    <tr>\n",
       "      <th>30</th>\n",
       "      <td>28</td>\n",
       "      <td>27</td>\n",
       "      <td>33</td>\n",
       "      <td>30</td>\n",
       "      <td>NaN</td>\n",
       "      <td>118.0</td>\n",
       "    </tr>\n",
       "    <tr>\n",
       "      <th>37</th>\n",
       "      <td>31</td>\n",
       "      <td>24</td>\n",
       "      <td>26</td>\n",
       "      <td>19</td>\n",
       "      <td>NaN</td>\n",
       "      <td>100.0</td>\n",
       "    </tr>\n",
       "    <tr>\n",
       "      <th>6</th>\n",
       "      <td>23</td>\n",
       "      <td>35</td>\n",
       "      <td>30</td>\n",
       "      <td>32</td>\n",
       "      <td>NaN</td>\n",
       "      <td>120.0</td>\n",
       "    </tr>\n",
       "    <tr>\n",
       "      <th>71</th>\n",
       "      <td>23</td>\n",
       "      <td>27</td>\n",
       "      <td>26</td>\n",
       "      <td>33</td>\n",
       "      <td>NaN</td>\n",
       "      <td>109.0</td>\n",
       "    </tr>\n",
       "    <tr>\n",
       "      <th>8</th>\n",
       "      <td>30</td>\n",
       "      <td>30</td>\n",
       "      <td>18</td>\n",
       "      <td>26</td>\n",
       "      <td>NaN</td>\n",
       "      <td>104.0</td>\n",
       "    </tr>\n",
       "  </tbody>\n",
       "</table>\n",
       "</div>"
      ],
      "text/plain": [
       "    first  second  third  fourth  OT  total\n",
       "2      23      17     22      22 NaN   84.0\n",
       "32     22      25     29      22 NaN   98.0\n",
       "61     27      28     33      25 NaN  113.0\n",
       "59     40      33     27      33 NaN  133.0\n",
       "16     29      17     23      29 NaN   98.0\n",
       "30     28      27     33      30 NaN  118.0\n",
       "37     31      24     26      19 NaN  100.0\n",
       "6      23      35     30      32 NaN  120.0\n",
       "71     23      27     26      33 NaN  109.0\n",
       "8      30      30     18      26 NaN  104.0"
      ]
     },
     "execution_count": 4,
     "metadata": {},
     "output_type": "execute_result"
    }
   ],
   "source": [
    "df.sample(10)"
   ]
  },
  {
   "cell_type": "code",
   "execution_count": null,
   "metadata": {},
   "outputs": [],
   "source": []
  },
  {
   "cell_type": "code",
   "execution_count": 5,
   "metadata": {},
   "outputs": [
    {
     "data": {
      "text/plain": [
       "7628"
      ]
     },
     "execution_count": 5,
     "metadata": {},
     "output_type": "execute_result"
    }
   ],
   "source": [
    "df['first'].mean(), df['second'].mean(), df['third'].mean() , df['fourth'].mean()\n",
    "df['first'].sum() + df['second'].sum() + df['third'].sum() + df['fourth'].sum() "
   ]
  },
  {
   "cell_type": "code",
   "execution_count": 6,
   "metadata": {},
   "outputs": [
    {
     "data": {
      "image/png": "[encoded data removed]",
      "text/plain": [
       "<Figure size 432x288 with 1 Axes>"
      ]
     },
     "metadata": {
      "needs_background": "light"
     },
     "output_type": "display_data"
    }
   ],
   "source": [
    "plt.plot(df['first'])\n",
    "# plt.plot(df['second'])\n",
    "# plt.plot(df['third'])\n",
    "# plt.plot(df['fourth'])\n",
    "\n",
    "plt.show()"
   ]
  },
  {
   "cell_type": "code",
   "execution_count": 18,
   "metadata": {},
   "outputs": [
    {
     "data": {
      "text/html": [
       "\n",
       "<div id=\"altair-viz-1dcbe2b742cf43ca90fc99079dffbe6f\"></div>\n",
       "<script type=\"text/javascript\">\n",
       "  (function(spec, embedOpt){\n",
       "    let outputDiv = document.currentScript.previousElementSibling;\n",
       "    if (outputDiv.id !== \"altair-viz-1dcbe2b742cf43ca90fc99079dffbe6f\") {\n",
       "      outputDiv = document.getElementById(\"altair-viz-1dcbe2b742cf43ca90fc99079dffbe6f\");\n",
       "    }\n",
       "    const paths = {\n",
       "      \"vega\": \"https://cdn.jsdelivr.net/npm//vega@5?noext\",\n",
       "      \"vega-lib\": \"https://cdn.jsdelivr.net/npm//vega-lib?noext\",\n",
       "      \"vega-lite\": \"https://cdn.jsdelivr.net/npm//vega-lite@4.8.1?noext\",\n",
       "      \"vega-embed\": \"https://cdn.jsdelivr.net/npm//vega-embed@6?noext\",\n",
       "    };\n",
       "\n",
       "    function loadScript(lib) {\n",
       "      return new Promise(function(resolve, reject) {\n",
       "        var s = document.createElement('script');\n",
       "        s.src = paths[lib];\n",
       "        s.async = true;\n",
       "        s.onload = () => resolve(paths[lib]);\n",
       "        s.onerror = () => reject(`Error loading script: ${paths[lib]}`);\n",
       "        document.getElementsByTagName(\"head\")[0].appendChild(s);\n",
       "      });\n",
       "    }\n",
       "\n",
       "    function showError(err) {\n",
       "      outputDiv.innerHTML = `<div class=\"error\" style=\"color:red;\">${err}</div>`;\n",
       "      throw err;\n",
       "    }\n",
       "\n",
       "    function displayChart(vegaEmbed) {\n",
       "      vegaEmbed(outputDiv, spec, embedOpt)\n",
       "        .catch(err => showError(`Javascript Error: ${err.message}<br>This usually means there's a typo in your chart specification. See the javascript console for the full traceback.`));\n",
       "    }\n",
       "\n",
       "    if(typeof define === \"function\" && define.amd) {\n",
       "      requirejs.config({paths});\n",
       "      require([\"vega-embed\"], displayChart, err => showError(`Error loading script: ${err.message}`));\n",
       "    } else if (typeof vegaEmbed === \"function\") {\n",
       "      displayChart(vegaEmbed);\n",
       "    } else {\n",
       "      loadScript(\"vega\")\n",
       "        .then(() => loadScript(\"vega-lite\"))\n",
       "        .then(() => loadScript(\"vega-embed\"))\n",
       "        .catch(showError)\n",
       "        .then(() => displayChart(vegaEmbed));\n",
       "    }\n",
       "  })({\"config\": {\"view\": {\"continuousWidth\": 400, \"continuousHeight\": 300}}, \"layer\": [{\"mark\": \"bar\", \"encoding\": {\"x\": {\"type\": \"quantitative\", \"field\": \"index\"}, \"y\": {\"type\": \"quantitative\", \"field\": \"total\"}}, \"selection\": {\"selector003\": {\"type\": \"interval\", \"bind\": \"scales\", \"encodings\": [\"x\", \"y\"]}, \"selector002\": {\"type\": \"single\", \"encodings\": [\"color\"], \"empty\": \"none\"}}}, {\"mark\": {\"type\": \"line\", \"color\": \"purple\"}, \"encoding\": {\"x\": {\"type\": \"quantitative\", \"field\": \"index\"}, \"y\": {\"type\": \"quantitative\", \"field\": \"second\"}}}, {\"mark\": {\"type\": \"line\", \"color\": \"yellow\"}, \"encoding\": {\"x\": {\"type\": \"quantitative\", \"field\": \"index\"}, \"y\": {\"type\": \"quantitative\", \"field\": \"second\"}}}, {\"mark\": {\"type\": \"line\", \"color\": \"red\"}, \"encoding\": {\"x\": {\"type\": \"quantitative\", \"field\": \"index\"}, \"y\": {\"type\": \"quantitative\", \"field\": \"third\"}}}, {\"mark\": {\"type\": \"line\", \"color\": \"orange\"}, \"encoding\": {\"x\": {\"type\": \"quantitative\", \"field\": \"index\"}, \"y\": {\"type\": \"quantitative\", \"field\": \"fourth\"}}}], \"data\": {\"name\": \"data-ee16716e4f47e49ece570af8117947fd\"}, \"width\": 500, \"$schema\": \"https://vega.github.io/schema/vega-lite/v4.8.1.json\", \"datasets\": {\"data-ee16716e4f47e49ece570af8117947fd\": [{\"index\": 0, \"first\": 30, \"second\": 31, \"third\": 25, \"fourth\": 31, \"OT\": 5.0, \"total\": 122.0}, {\"index\": 1, \"first\": 22, \"second\": 28, \"third\": 26, \"fourth\": 36, \"OT\": null, \"total\": 112.0}, {\"index\": 2, \"first\": 23, \"second\": 17, \"third\": 22, \"fourth\": 22, \"OT\": null, \"total\": 84.0}, {\"index\": 3, \"first\": 22, \"second\": 24, \"third\": 21, \"fourth\": 28, \"OT\": null, \"total\": 95.0}, {\"index\": 4, \"first\": 28, \"second\": 30, \"third\": 27, \"fourth\": 28, \"OT\": null, \"total\": 113.0}, {\"index\": 5, \"first\": 36, \"second\": 30, \"third\": 29, \"fourth\": 20, \"OT\": null, \"total\": 115.0}, {\"index\": 6, \"first\": 23, \"second\": 35, \"third\": 30, \"fourth\": 32, \"OT\": null, \"total\": 120.0}, {\"index\": 7, \"first\": 30, \"second\": 23, \"third\": 22, \"fourth\": 29, \"OT\": null, \"total\": 104.0}, {\"index\": 8, \"first\": 30, \"second\": 30, \"third\": 18, \"fourth\": 26, \"OT\": null, \"total\": 104.0}, {\"index\": 9, \"first\": 15, \"second\": 36, \"third\": 22, \"fourth\": 25, \"OT\": null, \"total\": 98.0}, {\"index\": 10, \"first\": 30, \"second\": 23, \"third\": 25, \"fourth\": 28, \"OT\": null, \"total\": 106.0}, {\"index\": 11, \"first\": 32, \"second\": 21, \"third\": 25, \"fourth\": 32, \"OT\": null, \"total\": 110.0}, {\"index\": 12, \"first\": 25, \"second\": 31, \"third\": 18, \"fourth\": 22, \"OT\": null, \"total\": 96.0}, {\"index\": 13, \"first\": 32, \"second\": 19, \"third\": 17, \"fourth\": 29, \"OT\": null, \"total\": 97.0}, {\"index\": 14, \"first\": 27, \"second\": 34, \"third\": 29, \"fourth\": 26, \"OT\": null, \"total\": 116.0}, {\"index\": 15, \"first\": 34, \"second\": 15, \"third\": 31, \"fourth\": 16, \"OT\": null, \"total\": 96.0}, {\"index\": 16, \"first\": 29, \"second\": 17, \"third\": 23, \"fourth\": 29, \"OT\": null, \"total\": 98.0}, {\"index\": 17, \"first\": 23, \"second\": 24, \"third\": 12, \"fourth\": 24, \"OT\": null, \"total\": 83.0}, {\"index\": 18, \"first\": 20, \"second\": 17, \"third\": 49, \"fourth\": 24, \"OT\": null, \"total\": 110.0}, {\"index\": 19, \"first\": 32, \"second\": 26, \"third\": 25, \"fourth\": 25, \"OT\": 13.0, \"total\": 121.0}, {\"index\": 20, \"first\": 34, \"second\": 29, \"third\": 31, \"fourth\": 25, \"OT\": null, \"total\": 119.0}, {\"index\": 21, \"first\": 27, \"second\": 30, \"third\": 29, \"fourth\": 24, \"OT\": null, \"total\": 110.0}, {\"index\": 22, \"first\": 30, \"second\": 21, \"third\": 20, \"fourth\": 21, \"OT\": null, \"total\": 92.0}, {\"index\": 23, \"first\": 27, \"second\": 37, \"third\": 24, \"fourth\": 24, \"OT\": null, \"total\": 112.0}, {\"index\": 24, \"first\": 31, \"second\": 29, \"third\": 23, \"fourth\": 19, \"OT\": null, \"total\": 102.0}, {\"index\": 25, \"first\": 29, \"second\": 25, \"third\": 30, \"fourth\": 29, \"OT\": null, \"total\": 113.0}, {\"index\": 26, \"first\": 29, \"second\": 35, \"third\": 15, \"fourth\": 20, \"OT\": null, \"total\": 99.0}, {\"index\": 27, \"first\": 23, \"second\": 29, \"third\": 33, \"fourth\": 33, \"OT\": null, \"total\": 118.0}, {\"index\": 28, \"first\": 17, \"second\": 34, \"third\": 35, \"fourth\": 21, \"OT\": null, \"total\": 107.0}, {\"index\": 29, \"first\": 30, \"second\": 24, \"third\": 24, \"fourth\": 29, \"OT\": null, \"total\": 107.0}, {\"index\": 30, \"first\": 28, \"second\": 27, \"third\": 33, \"fourth\": 30, \"OT\": null, \"total\": 118.0}, {\"index\": 31, \"first\": 25, \"second\": 29, \"third\": 25, \"fourth\": 18, \"OT\": null, \"total\": 97.0}, {\"index\": 32, \"first\": 22, \"second\": 25, \"third\": 29, \"fourth\": 22, \"OT\": null, \"total\": 98.0}, {\"index\": 33, \"first\": 25, \"second\": 18, \"third\": 26, \"fourth\": 28, \"OT\": null, \"total\": 97.0}, {\"index\": 34, \"first\": 18, \"second\": 24, \"third\": 21, \"fourth\": 21, \"OT\": null, \"total\": 84.0}, {\"index\": 35, \"first\": 33, \"second\": 19, \"third\": 28, \"fourth\": 22, \"OT\": null, \"total\": 102.0}, {\"index\": 36, \"first\": 15, \"second\": 31, \"third\": 23, \"fourth\": 32, \"OT\": null, \"total\": 101.0}, {\"index\": 37, \"first\": 31, \"second\": 24, \"third\": 26, \"fourth\": 19, \"OT\": null, \"total\": 100.0}, {\"index\": 38, \"first\": 21, \"second\": 22, \"third\": 26, \"fourth\": 36, \"OT\": null, \"total\": 105.0}, {\"index\": 39, \"first\": 25, \"second\": 30, \"third\": 28, \"fourth\": 38, \"OT\": null, \"total\": 121.0}, {\"index\": 40, \"first\": 26, \"second\": 25, \"third\": 25, \"fourth\": 35, \"OT\": null, \"total\": 111.0}, {\"index\": 41, \"first\": 39, \"second\": 23, \"third\": 22, \"fourth\": 28, \"OT\": null, \"total\": 112.0}, {\"index\": 42, \"first\": 25, \"second\": 35, \"third\": 22, \"fourth\": 35, \"OT\": null, \"total\": 117.0}, {\"index\": 43, \"first\": 35, \"second\": 15, \"third\": 22, \"fourth\": 23, \"OT\": null, \"total\": 95.0}, {\"index\": 44, \"first\": 28, \"second\": 25, \"third\": 26, \"fourth\": 33, \"OT\": null, \"total\": 112.0}, {\"index\": 45, \"first\": 21, \"second\": 30, \"third\": 34, \"fourth\": 21, \"OT\": null, \"total\": 106.0}, {\"index\": 46, \"first\": 23, \"second\": 33, \"third\": 27, \"fourth\": 31, \"OT\": null, \"total\": 114.0}, {\"index\": 47, \"first\": 26, \"second\": 26, \"third\": 24, \"fourth\": 33, \"OT\": null, \"total\": 109.0}, {\"index\": 48, \"first\": 20, \"second\": 27, \"third\": 22, \"fourth\": 23, \"OT\": null, \"total\": 92.0}, {\"index\": 49, \"first\": 29, \"second\": 34, \"third\": 22, \"fourth\": 17, \"OT\": null, \"total\": 102.0}, {\"index\": 50, \"first\": 20, \"second\": 43, \"third\": 23, \"fourth\": 32, \"OT\": null, \"total\": 118.0}, {\"index\": 51, \"first\": 31, \"second\": 32, \"third\": 20, \"fourth\": 23, \"OT\": null, \"total\": 106.0}, {\"index\": 52, \"first\": 36, \"second\": 18, \"third\": 34, \"fourth\": 30, \"OT\": null, \"total\": 118.0}, {\"index\": 53, \"first\": 36, \"second\": 39, \"third\": 19, \"fourth\": 32, \"OT\": null, \"total\": 126.0}, {\"index\": 54, \"first\": 23, \"second\": 29, \"third\": 23, \"fourth\": 26, \"OT\": null, \"total\": 101.0}, {\"index\": 55, \"first\": 23, \"second\": 20, \"third\": 35, \"fourth\": 23, \"OT\": null, \"total\": 101.0}, {\"index\": 56, \"first\": 12, \"second\": 20, \"third\": 23, \"fourth\": 26, \"OT\": null, \"total\": 81.0}, {\"index\": 57, \"first\": 25, \"second\": 25, \"third\": 34, \"fourth\": 24, \"OT\": null, \"total\": 108.0}, {\"index\": 58, \"first\": 25, \"second\": 27, \"third\": 21, \"fourth\": 26, \"OT\": null, \"total\": 99.0}, {\"index\": 59, \"first\": 40, \"second\": 33, \"third\": 27, \"fourth\": 33, \"OT\": null, \"total\": 133.0}, {\"index\": 60, \"first\": 39, \"second\": 29, \"third\": 18, \"fourth\": 28, \"OT\": null, \"total\": 114.0}, {\"index\": 61, \"first\": 27, \"second\": 28, \"third\": 33, \"fourth\": 25, \"OT\": null, \"total\": 113.0}, {\"index\": 62, \"first\": 22, \"second\": 28, \"third\": 24, \"fourth\": 39, \"OT\": null, \"total\": 113.0}, {\"index\": 63, \"first\": 22, \"second\": 29, \"third\": 19, \"fourth\": 22, \"OT\": null, \"total\": 92.0}, {\"index\": 64, \"first\": 21, \"second\": 23, \"third\": 26, \"fourth\": 22, \"OT\": null, \"total\": 92.0}, {\"index\": 65, \"first\": 17, \"second\": 27, \"third\": 35, \"fourth\": 24, \"OT\": null, \"total\": 103.0}, {\"index\": 66, \"first\": 11, \"second\": 24, \"third\": 33, \"fourth\": 31, \"OT\": null, \"total\": 99.0}, {\"index\": 67, \"first\": 21, \"second\": 31, \"third\": 39, \"fourth\": 31, \"OT\": null, \"total\": 122.0}, {\"index\": 68, \"first\": 25, \"second\": 29, \"third\": 17, \"fourth\": 28, \"OT\": null, \"total\": 99.0}, {\"index\": 69, \"first\": 31, \"second\": 22, \"third\": 22, \"fourth\": 31, \"OT\": null, \"total\": 106.0}, {\"index\": 70, \"first\": 32, \"second\": 30, \"third\": 26, \"fourth\": 33, \"OT\": null, \"total\": 121.0}, {\"index\": 71, \"first\": 23, \"second\": 27, \"third\": 26, \"fourth\": 33, \"OT\": null, \"total\": 109.0}]}}, {\"mode\": \"vega-lite\"});\n",
       "</script>"
      ],
      "text/plain": [
       "alt.LayerChart(...)"
      ]
     },
     "execution_count": 18,
     "metadata": {},
     "output_type": "execute_result"
    }
   ],
   "source": [
    "base = alt.Chart(df.reset_index()).encode(x='index:Q')\n",
    "\n",
    "selection = alt.selection_single(encodings=['color'], empty='none')\n",
    "\n",
    "\n",
    "bar = base.mark_bar().encode(y='total')\n",
    "\n",
    "first =  base.mark_line(color='purple').encode(\n",
    "    y='first:Q'\n",
    ")\n",
    "\n",
    "second =  base.mark_line(color='yellow').encode(\n",
    "    y='second:Q'\n",
    ")\n",
    "\n",
    "third =  base.mark_line(color='red').encode(\n",
    "    y='third:Q'\n",
    ")\n",
    "\n",
    "fourth =  base.mark_line(color='orange').encode(\n",
    "    y='fourth:Q'\n",
    ")\n",
    "\n",
    "\n",
    "\n",
    "( bar + first + second + third + fourth).properties(width=500).interactive().add_selection(\n",
    "    selection\n",
    ")\n"
   ]
  },
  {
   "cell_type": "code",
   "execution_count": null,
   "metadata": {},
   "outputs": [],
   "source": []
  }
 ],
 "metadata": {
  "kernelspec": {
   "display_name": "Python 3",
   "language": "python",
   "name": "python3"
  },
  "language_info": {
   "codemirror_mode": {
    "name": "ipython",
    "version": 3
   },
   "file_extension": ".py",
   "mimetype": "text/x-python",
   "name": "python",
   "nbconvert_exporter": "python",
   "pygments_lexer": "ipython3",
   "version": "3.7.6"
  }
 },
 "nbformat": 4,
 "nbformat_minor": 4
}
